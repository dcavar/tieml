{
 "cells": [
  {
   "cell_type": "markdown",
   "id": "0d8bfa21-17f7-4406-ac77-711069a1434a",
   "metadata": {},
   "source": [
    "# Annotate Penn Treebank using TIE-ML"
   ]
  },
  {
   "cell_type": "code",
   "execution_count": null,
   "id": "c4f85101-f90e-481f-8730-f9d9310e3666",
   "metadata": {},
   "outputs": [],
   "source": []
  }
 ],
 "metadata": {
  "kernelspec": {
   "display_name": "Python 3 (ipykernel)",
   "language": "python",
   "name": "python3"
  },
  "language_info": {
   "codemirror_mode": {
    "name": "ipython",
    "version": 3
   },
   "file_extension": ".py",
   "mimetype": "text/x-python",
   "name": "python",
   "nbconvert_exporter": "python",
   "pygments_lexer": "ipython3",
   "version": "3.9.7"
  }
 },
 "nbformat": 4,
 "nbformat_minor": 5
}
